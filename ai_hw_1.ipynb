{
 "nbformat": 4,
 "nbformat_minor": 0,
 "metadata": {
  "colab": {
   "provenance": [
    {
     "file_id": "1E-6S-P7yJD72aX6PR770HAmnePXzABIJ",
     "timestamp": 1734421013453
    }
   ],
   "toc_visible": true
  },
  "kernelspec": {
   "name": "python3",
   "language": "python",
   "display_name": "Python 3 (ipykernel)"
  },
  "language_info": {
   "name": "python"
  }
 },
 "cells": [
  {
   "cell_type": "markdown",
   "source": [
    "## ДЗ 1 (ОБЯЗАТЕЛЬНОЕ): Анализ температурных данных и мониторинг текущей температуры через OpenWeatherMap API\n",
    "\n",
    "**Описание задания:**  \n",
    "Вы аналитик в компании, занимающейся изучением климатических изменений и мониторингом температур в разных городах. Вам нужно провести анализ исторических данных о температуре для выявления сезонных закономерностей и аномалий. Также необходимо подключить API OpenWeatherMap для получения текущей температуры в выбранных городах и сравнить её с историческими данными.\n",
    "\n",
    "\n",
    "### Цели задания:\n",
    "1. Провести **анализ временных рядов**, включая:\n",
    "   - Вычисление скользящего среднего и стандартного отклонения для сглаживания температурных колебаний.\n",
    "   - Определение аномалий на основе отклонений температуры от $ \\text{скользящее среднее} \\pm 2\\sigma $.\n",
    "   - Построение долгосрочных трендов изменения температуры.\n",
    "   - Любые дополнительные исследования будут вам в плюс.\n",
    "\n",
    "2. Осуществить **мониторинг текущей температуры**:\n",
    "   - Получить текущую температуру через OpenWeatherMap API.\n",
    "   - Сравнить её с историческим нормальным диапазоном для текущего сезона.\n",
    "\n",
    "3. Разработать **интерактивное приложение**:\n",
    "   - Дать пользователю возможность выбрать город.\n",
    "   - Отобразить результаты анализа температур, включая временные ряды, сезонные профили и аномалии.\n",
    "   - Провести анализ текущей температуры в контексте исторических данных.\n",
    "\n",
    "\n",
    "### Описание данных\n",
    "Исторические данные о температуре содержатся в файле `temperature_data.csv`, включают:\n",
    "  - `city`: Название города.\n",
    "  - `timestamp`: Дата (с шагом в 1 день).\n",
    "  - `temperature`: Среднесуточная температура (в °C).\n",
    "  - `season`: Сезон года (зима, весна, лето, осень).\n",
    "\n",
    "Код для генерации файла вы найдете ниже.\n",
    "\n",
    "### Этапы выполнения\n",
    "\n",
    "1. **Анализ исторических данных**:\n",
    "   - Вычислить **скользящее среднее** температуры с окном в 30 дней для сглаживания краткосрочных колебаний.\n",
    "   - Рассчитать среднюю температуру и стандартное отклонение для каждого сезона в каждом городе.\n",
    "   - Выявить аномалии, где температура выходит за пределы $ \\text{среднее} \\pm 2\\sigma $.\n",
    "   - Попробуйте распараллелить проведение этого анализа. Сравните скорость выполнения анализа с распараллеливанием и без него.\n",
    "\n",
    "2. **Мониторинг текущей температуры**:\n",
    "   - Подключить OpenWeatherMap API для получения текущей температуры города. Для получения API Key (бесплатно) надо зарегистрироваться на сайте. Обратите внимание, что API Key может активироваться только через 2-3 часа, это нормально. Посему получите ключ заранее.\n",
    "   - Получить текущую температуру для выбранного города через OpenWeatherMap API.\n",
    "   - Определить, является ли текущая температура нормальной, исходя из исторических данных для текущего сезона.\n",
    "   - Данные на самом деле не совсем реальные (сюрпрайз). Поэтому на момент эксперимента погода в Берлине, Каире и Дубае была в рамках нормы, а в Пекине и Москве аномальная. Протестируйте свое решение для разных городов.\n",
    "   - Попробуйте для получения текущей температуры использовать синхронные и асинхронные методы. Что здесь лучше использовать?\n",
    "\n",
    "3. **Создание приложения на Streamlit**:\n",
    "   - Добавить интерфейс для загрузки файла с историческими данными.\n",
    "   - Добавить интерфейс для выбора города (из выпадающего списка).\n",
    "   - Добавить форму для ввода API-ключа OpenWeatherMap. Когда он не введен, данные для текущей погоды не показываются. Если ключ некорректный, выведите на экран ошибку (должно приходить `{\"cod\":401, \"message\": \"Invalid API key. Please see https://openweathermap.org/faq#error401 for more info.\"}`).\n",
    "   - Отобразить:\n",
    "     - Описательную статистику по историческим данным для города, можно добавить визуализации.\n",
    "     - Временной ряд температур с выделением аномалий (например, точками другого цвета).\n",
    "     - Сезонные профили с указанием среднего и стандартного отклонения.\n",
    "   - Вывести текущую температуру через API и указать, нормальна ли она для сезона.\n",
    "\n",
    "### Критерии оценивания\n",
    "\n",
    "- Корректное проведение анализа данных – 1 балл.\n",
    "- Исследование распараллеливания анализа – 1 балл.\n",
    "- Корректный поиск аномалий – 1 балл.\n",
    "- Подключение к API и корректность выполнения запроса – 1 балл.\n",
    "- Проведение эксперимента с синхронным и асинхронным способом запроса к API – 1 балл.\n",
    "- Создание интерфейса приложения streamlit в соответствии с описанием – 3 балла.\n",
    "- Корректное отображение графиков и статистик, а также сезонных профилей – 1 балл.\n",
    "- Корректный вывод текущей температуры в выбранном городе и проведение проверки на ее аномальность – 1 балл.\n",
    "- Любая дополнительная функциональность приветствуется и оценивается бонусными баллами (не более 2 в сумме) на усмотрение проверяющего.\n",
    "\n",
    "### Формат сдачи домашнего задания\n",
    "\n",
    "Решение нужно развернуть в Streamlit Cloud (бесплатно)\n",
    "\n",
    "*   Создаем новый репозиторий на GitHub.  \n",
    "*   Загружаем проект.\n",
    "*   Создаем аккаунт в [Streamlit Cloud](https://streamlit.io/cloud).\n",
    "*   Авторизуемся в Streamlit Cloud.\n",
    "*   Создаем новое приложение в Streamlit Cloud и подключаем GitHub-репозиторий.\n",
    "*   Deploy!\n",
    "\n",
    "Сдать в форму необходимо:\n",
    "1. Ссылку на развернутое в Streamlit Cloud приложение.\n",
    "2. Ссылку на код. Все выводы про, например, использование параллельности/асинхронности опишите в комментариях.\n",
    "\n",
    "Не забудьте удалить ключ API и иную чувствительную информацию.\n",
    "\n",
    "### Полезные ссылки\n",
    "*   [Оформление задачи Титаник на Streamlit](https://github.com/evgpat/streamlit_demo)\n",
    "*   [Документация Streamlit](https://docs.streamlit.io/)\n",
    "*   [Блог о Streamlit](https://blog.streamlit.io/)"
   ],
   "metadata": {
    "id": "bVbHQbDDjw9i"
   }
  },
  {
   "cell_type": "code",
   "source": [
    "import time\n",
    "import asyncio\n",
    "from axiluary_functions import *\n",
    "\n",
    "dotenv_path = '.env'\n",
    "if os.path.exists(dotenv_path):\n",
    "    load_dotenv(dotenv_path)\n",
    "\n",
    "DATA_PATH = os.getenv('DATA_PATH')\n",
    "API_KEY = os.getenv('API_KEY')\n",
    "# Выберем единицы: температура в градусах Цельсия, ветер в м/с\n",
    "UNITS = os.getenv('UNITS')\n",
    "\n",
    "# Реальные средние температуры (примерные данные) для городов по сезонам\n",
    "seasonal_temperatures = {\n",
    "    \"New York\": {\"winter\": 0, \"spring\": 10, \"summer\": 25, \"autumn\": 15},\n",
    "    \"London\": {\"winter\": 5, \"spring\": 11, \"summer\": 18, \"autumn\": 12},\n",
    "    \"Paris\": {\"winter\": 4, \"spring\": 12, \"summer\": 20, \"autumn\": 13},\n",
    "    \"Tokyo\": {\"winter\": 6, \"spring\": 15, \"summer\": 27, \"autumn\": 18},\n",
    "    \"Moscow\": {\"winter\": -10, \"spring\": 5, \"summer\": 18, \"autumn\": 8},\n",
    "    \"Sydney\": {\"winter\": 12, \"spring\": 18, \"summer\": 25, \"autumn\": 20},\n",
    "    \"Berlin\": {\"winter\": 0, \"spring\": 10, \"summer\": 20, \"autumn\": 11},\n",
    "    \"Beijing\": {\"winter\": -2, \"spring\": 13, \"summer\": 27, \"autumn\": 16},\n",
    "    \"Rio de Janeiro\": {\"winter\": 20, \"spring\": 25, \"summer\": 30, \"autumn\": 25},\n",
    "    \"Dubai\": {\"winter\": 20, \"spring\": 30, \"summer\": 40, \"autumn\": 30},\n",
    "    \"Los Angeles\": {\"winter\": 15, \"spring\": 18, \"summer\": 25, \"autumn\": 20},\n",
    "    \"Singapore\": {\"winter\": 27, \"spring\": 28, \"summer\": 28, \"autumn\": 27},\n",
    "    \"Mumbai\": {\"winter\": 25, \"spring\": 30, \"summer\": 35, \"autumn\": 30},\n",
    "    \"Cairo\": {\"winter\": 15, \"spring\": 25, \"summer\": 35, \"autumn\": 25},\n",
    "    \"Mexico City\": {\"winter\": 12, \"spring\": 18, \"summer\": 20, \"autumn\": 15},\n",
    "}\n",
    "\n",
    "# Сопоставление месяцев с сезонами\n",
    "month_to_season = {12: \"winter\", 1: \"winter\", 2: \"winter\",\n",
    "                   3: \"spring\", 4: \"spring\", 5: \"spring\",\n",
    "                   6: \"summer\", 7: \"summer\", 8: \"summer\",\n",
    "                   9: \"autumn\", 10: \"autumn\", 11: \"autumn\"}\n",
    "\n",
    "# Генерация данных о температуре\n",
    "def generate_realistic_temperature_data(cities, num_years=10):\n",
    "    dates = pd.date_range(start=\"2010-01-01\", periods=365 * num_years, freq=\"D\")\n",
    "    data = []\n",
    "\n",
    "    for city in cities:\n",
    "        for date in dates:\n",
    "            season = month_to_season[date.month]\n",
    "            mean_temp = seasonal_temperatures[city][season]\n",
    "            # Добавляем случайное отклонение\n",
    "            temperature = np.random.normal(loc=mean_temp, scale=5)\n",
    "            data.append({\"city\": city, \"timestamp\": date, \"temperature\": temperature})\n",
    "\n",
    "    df = pd.DataFrame(data)\n",
    "    df['season'] = df['timestamp'].dt.month.map(lambda x: month_to_season[x])\n",
    "    return df\n",
    "\n",
    "# Генерация данных\n",
    "data = generate_realistic_temperature_data(list(seasonal_temperatures.keys()))\n",
    "data.to_csv(os.path.join(DATA_PATH, 'temperature_data.csv'), index=False)\n"
   ],
   "metadata": {
    "id": "SsrwTMhRj6dK",
    "executionInfo": {
     "status": "ok",
     "timestamp": 1734550808073,
     "user_tz": -180,
     "elapsed": 1888,
     "user": {
      "displayName": "D B",
      "userId": "06784747228484967112"
     }
    },
    "colab": {
     "base_uri": "https://localhost:8080/"
    },
    "outputId": "dcdf4373-c9a1-43a9-d193-9f30899ae6c3",
    "ExecuteTime": {
     "end_time": "2024-12-20T01:04:05.044884Z",
     "start_time": "2024-12-20T01:04:03.602766Z"
    }
   },
   "execution_count": 1,
   "outputs": []
  },
  {
   "cell_type": "markdown",
   "source": [
    "# **Анализ исторических данных**"
   ],
   "metadata": {
    "id": "xJHNG9jFpALN"
   }
  },
  {
   "cell_type": "markdown",
   "source": [
    "   В данном разделе:\n",
    "   - вычислим **скользящее среднее** температуры с окном в 30 дней для сглаживания краткосрочных колебаний.\n",
    "   - рассчитать среднюю температуру и стандартное отклонение для каждого сезона в каждом городе (по скользящим средним значениям и по всем значениям).\n",
    "   - выявим аномалии, где температура выходит за пределы скользящих средних $ \\text{среднее} \\pm 2\\sigma $.\n",
    "   - попробуем распараллелить проведение этого анализа. Сравним скорость выполнения анализа с распараллеливанием и без него."
   ],
   "metadata": {
    "id": "yOrvooXvwv9F"
   }
  },
  {
   "cell_type": "markdown",
   "source": [
    "## Загрузка данных"
   ],
   "metadata": {
    "id": "mt1M7XPHwhEk"
   }
  },
  {
   "cell_type": "code",
   "source": [
    "# Загрузим датасет\n",
    "df = pd.read_csv(os.path.join(DATA_PATH, 'temperature_data.csv'))"
   ],
   "metadata": {
    "id": "cWVh2LqypzQk",
    "ExecuteTime": {
     "end_time": "2024-12-20T01:04:05.078422Z",
     "start_time": "2024-12-20T01:04:05.045886Z"
    }
   },
   "execution_count": 2,
   "outputs": []
  },
  {
   "cell_type": "code",
   "source": [
    "# Рассмотрим первые строки\n",
    "df.head()"
   ],
   "metadata": {
    "colab": {
     "base_uri": "https://localhost:8080/",
     "height": 206
    },
    "id": "VLHj9loypJHk",
    "executionInfo": {
     "status": "ok",
     "timestamp": 1734543313171,
     "user_tz": -180,
     "elapsed": 267,
     "user": {
      "displayName": "D B",
      "userId": "06784747228484967112"
     }
    },
    "outputId": "8f84befc-f9c3-4cad-82cd-7112dba0ff23",
    "ExecuteTime": {
     "end_time": "2024-12-20T01:04:05.086918Z",
     "start_time": "2024-12-20T01:04:05.078422Z"
    }
   },
   "execution_count": 3,
   "outputs": [
    {
     "data": {
      "text/plain": "       city   timestamp  temperature  season\n0  New York  2010-01-01     4.392725  winter\n1  New York  2010-01-02    -2.185858  winter\n2  New York  2010-01-03     1.876412  winter\n3  New York  2010-01-04     7.846638  winter\n4  New York  2010-01-05     0.157972  winter",
      "text/html": "<div>\n<style scoped>\n    .dataframe tbody tr th:only-of-type {\n        vertical-align: middle;\n    }\n\n    .dataframe tbody tr th {\n        vertical-align: top;\n    }\n\n    .dataframe thead th {\n        text-align: right;\n    }\n</style>\n<table border=\"1\" class=\"dataframe\">\n  <thead>\n    <tr style=\"text-align: right;\">\n      <th></th>\n      <th>city</th>\n      <th>timestamp</th>\n      <th>temperature</th>\n      <th>season</th>\n    </tr>\n  </thead>\n  <tbody>\n    <tr>\n      <th>0</th>\n      <td>New York</td>\n      <td>2010-01-01</td>\n      <td>4.392725</td>\n      <td>winter</td>\n    </tr>\n    <tr>\n      <th>1</th>\n      <td>New York</td>\n      <td>2010-01-02</td>\n      <td>-2.185858</td>\n      <td>winter</td>\n    </tr>\n    <tr>\n      <th>2</th>\n      <td>New York</td>\n      <td>2010-01-03</td>\n      <td>1.876412</td>\n      <td>winter</td>\n    </tr>\n    <tr>\n      <th>3</th>\n      <td>New York</td>\n      <td>2010-01-04</td>\n      <td>7.846638</td>\n      <td>winter</td>\n    </tr>\n    <tr>\n      <th>4</th>\n      <td>New York</td>\n      <td>2010-01-05</td>\n      <td>0.157972</td>\n      <td>winter</td>\n    </tr>\n  </tbody>\n</table>\n</div>"
     },
     "execution_count": 3,
     "metadata": {},
     "output_type": "execute_result"
    }
   ]
  },
  {
   "cell_type": "code",
   "source": [
    "# Рассмотрим общие сведения\n",
    "df.info()"
   ],
   "metadata": {
    "colab": {
     "base_uri": "https://localhost:8080/"
    },
    "id": "fPIbQy7VpJvL",
    "executionInfo": {
     "status": "ok",
     "timestamp": 1734543313452,
     "user_tz": -180,
     "elapsed": 283,
     "user": {
      "displayName": "D B",
      "userId": "06784747228484967112"
     }
    },
    "outputId": "510637d5-3d9b-42f7-bf27-f21d9523434f",
    "ExecuteTime": {
     "end_time": "2024-12-20T01:04:05.096344Z",
     "start_time": "2024-12-20T01:04:05.086918Z"
    }
   },
   "execution_count": 4,
   "outputs": [
    {
     "name": "stdout",
     "output_type": "stream",
     "text": [
      "<class 'pandas.core.frame.DataFrame'>\n",
      "RangeIndex: 54750 entries, 0 to 54749\n",
      "Data columns (total 4 columns):\n",
      " #   Column       Non-Null Count  Dtype  \n",
      "---  ------       --------------  -----  \n",
      " 0   city         54750 non-null  object \n",
      " 1   timestamp    54750 non-null  object \n",
      " 2   temperature  54750 non-null  float64\n",
      " 3   season       54750 non-null  object \n",
      "dtypes: float64(1), object(3)\n",
      "memory usage: 1.7+ MB\n"
     ]
    }
   ]
  },
  {
   "cell_type": "markdown",
   "metadata": {
    "id": "TQaBR3OzplnZ"
   },
   "source": [
    "Каждый объект в наборе данных — это информация о температуре в городе в определённый день. Столбцы содержат следующую информацию (признаки):\n",
    "- `city` - наименование города,\n",
    "- `timestamp` — дата,\n",
    "- `temperature` — температура в градусах Цельсия,\n",
    "- `season` - сезон, соответствующий дате.  \n",
    "Пропуски отсутствуют. Тип данных метки времени приведём к необходимому типу."
   ]
  },
  {
   "cell_type": "markdown",
   "source": [
    "## Приведение типа и смена индекса"
   ],
   "metadata": {
    "id": "5mPZCQwMxbxl"
   }
  },
  {
   "cell_type": "code",
   "source": [
    "# Преобразуем тип данных в столбце с датой и временем\n",
    "df['timestamp'] = pd.to_datetime(df['timestamp'], format='%Y-%m-%d')"
   ],
   "metadata": {
    "id": "ZViVKHz4pJzl",
    "ExecuteTime": {
     "end_time": "2024-12-20T01:04:05.116246Z",
     "start_time": "2024-12-20T01:04:05.097347Z"
    }
   },
   "execution_count": 5,
   "outputs": []
  },
  {
   "cell_type": "code",
   "source": [
    "# Проверим столбец с датой и временем на упорядоченность\n",
    "df['timestamp'].is_monotonic_increasing"
   ],
   "metadata": {
    "id": "bD0IEQDrpJ7T",
    "colab": {
     "base_uri": "https://localhost:8080/"
    },
    "executionInfo": {
     "status": "ok",
     "timestamp": 1734543313453,
     "user_tz": -180,
     "elapsed": 5,
     "user": {
      "displayName": "D B",
      "userId": "06784747228484967112"
     }
    },
    "outputId": "b3d723ce-acdc-4b7f-b520-18510a6bc6af",
    "ExecuteTime": {
     "end_time": "2024-12-20T01:04:05.119964Z",
     "start_time": "2024-12-20T01:04:05.116246Z"
    }
   },
   "execution_count": 6,
   "outputs": [
    {
     "data": {
      "text/plain": "False"
     },
     "execution_count": 6,
     "metadata": {},
     "output_type": "execute_result"
    }
   ]
  },
  {
   "cell_type": "code",
   "source": [
    "# Отсортируем по дате\n",
    "df = df.sort_values(by='timestamp')\n",
    "df['timestamp'].is_monotonic_increasing"
   ],
   "metadata": {
    "colab": {
     "base_uri": "https://localhost:8080/"
    },
    "id": "hQWRMy37-_JA",
    "executionInfo": {
     "status": "ok",
     "timestamp": 1734543313453,
     "user_tz": -180,
     "elapsed": 4,
     "user": {
      "displayName": "D B",
      "userId": "06784747228484967112"
     }
    },
    "outputId": "d717124a-d895-4b48-ccd7-b4b0a2000275",
    "ExecuteTime": {
     "end_time": "2024-12-20T01:04:05.126695Z",
     "start_time": "2024-12-20T01:04:05.119964Z"
    }
   },
   "execution_count": 7,
   "outputs": [
    {
     "data": {
      "text/plain": "True"
     },
     "execution_count": 7,
     "metadata": {},
     "output_type": "execute_result"
    }
   ]
  },
  {
   "cell_type": "code",
   "source": [
    "# Cтолбец с датой и временем используем для индесации данных\n",
    "df.set_index(['timestamp'], inplace=True)"
   ],
   "metadata": {
    "id": "frcL6n0C_RAg",
    "ExecuteTime": {
     "end_time": "2024-12-20T01:04:05.129791Z",
     "start_time": "2024-12-20T01:04:05.126695Z"
    }
   },
   "execution_count": 8,
   "outputs": []
  },
  {
   "cell_type": "code",
   "source": [
    "# Рассмотрим общие сведения после преобразований\n",
    "df.info()"
   ],
   "metadata": {
    "colab": {
     "base_uri": "https://localhost:8080/"
    },
    "id": "4WAimE34FBG_",
    "executionInfo": {
     "status": "ok",
     "timestamp": 1734543313453,
     "user_tz": -180,
     "elapsed": 3,
     "user": {
      "displayName": "D B",
      "userId": "06784747228484967112"
     }
    },
    "outputId": "fc5aec8c-0bad-41d6-a6dc-afc0576b8b18",
    "ExecuteTime": {
     "end_time": "2024-12-20T01:04:05.138698Z",
     "start_time": "2024-12-20T01:04:05.130794Z"
    }
   },
   "execution_count": 9,
   "outputs": [
    {
     "name": "stdout",
     "output_type": "stream",
     "text": [
      "<class 'pandas.core.frame.DataFrame'>\n",
      "DatetimeIndex: 54750 entries, 2010-01-01 to 2019-12-29\n",
      "Data columns (total 3 columns):\n",
      " #   Column       Non-Null Count  Dtype  \n",
      "---  ------       --------------  -----  \n",
      " 0   city         54750 non-null  object \n",
      " 1   temperature  54750 non-null  float64\n",
      " 2   season       54750 non-null  object \n",
      "dtypes: float64(1), object(2)\n",
      "memory usage: 1.7+ MB\n"
     ]
    }
   ]
  },
  {
   "cell_type": "markdown",
   "source": [
    "## Анализ погоды в городах"
   ],
   "metadata": {
    "id": "ORTOKtMtxlNs"
   }
  },
  {
   "cell_type": "code",
   "source": [
    "# Проверим работу функции на примере одного из городов\n",
    "city_weather_report(df[df['city']=='New York'])"
   ],
   "metadata": {
    "colab": {
     "base_uri": "https://localhost:8080/"
    },
    "id": "BpgquERp_eUP",
    "executionInfo": {
     "status": "ok",
     "timestamp": 1734543313711,
     "user_tz": -180,
     "elapsed": 2,
     "user": {
      "displayName": "D B",
      "userId": "06784747228484967112"
     }
    },
    "outputId": "d48463eb-2fab-4c1d-9d14-67cd21bc2fc0",
    "ExecuteTime": {
     "end_time": "2024-12-20T01:04:05.149312Z",
     "start_time": "2024-12-20T01:04:05.138698Z"
    }
   },
   "execution_count": 10,
   "outputs": [
    {
     "data": {
      "text/plain": "{'city': 'New York',\n 'avg': np.float64(12.44),\n 'min': np.float64(-15.28),\n 'max': np.float64(42.74),\n 'anomal_values': timestamp\n 2010-02-27     8.713577\n 2010-03-02    15.344701\n 2010-03-03    17.414126\n 2010-03-04    25.049146\n 2010-03-06    18.467591\n                 ...    \n 2019-11-14     6.766359\n 2019-11-16    28.022032\n 2019-12-01     3.786671\n 2019-12-02    -4.489312\n 2019-12-04    -2.723106\n Name: temperature, Length: 212, dtype: float64,\n 'season_profile_roll30': {'winter_avg': np.float64(2.27),\n  'winter_std': np.float64(4.55),\n  'spring_avg': np.float64(8.2),\n  'spring_std': np.float64(2.83),\n  'summer_avg': np.float64(22.75),\n  'summer_std': np.float64(4.41),\n  'autumn_avg': np.float64(16.4),\n  'autumn_std': np.float64(2.84)},\n 'season_profile': {'winter_avg': np.float64(-0.19),\n  'winter_std': np.float64(4.85),\n  'spring_avg': np.float64(9.8),\n  'spring_std': np.float64(5.16),\n  'summer_avg': np.float64(25.08),\n  'summer_std': np.float64(5.01),\n  'autumn_avg': np.float64(14.81),\n  'autumn_std': np.float64(5.1)},\n 'trend': np.float64(0.0003)}"
     },
     "execution_count": 10,
     "metadata": {},
     "output_type": "execute_result"
    }
   ]
  },
  {
   "cell_type": "markdown",
   "source": [
    "Попробуем распараллелить проведение этого анализа. Сравним скорость выполнения\n",
    "анализа с распараллеливанием и без него. В эксперименте с параллельным выполнением получился результат ~1.4 c."
   ],
   "metadata": {
    "id": "9_m7gYa1_eXn"
   }
  },
  {
   "cell_type": "code",
   "source": [
    "# Выполнение без распараллеливания\n",
    "start = time.time()\n",
    "reports = []\n",
    "for city in df['city'].unique():\n",
    "    reports.append(city_weather_report(df[df['city']==city]))\n",
    "print(f'Выполнение завершено за {time.time() - start: .3f} с')\n",
    "pd.DataFrame(reports).info()"
   ],
   "metadata": {
    "id": "YjvO6bD0_egb",
    "colab": {
     "base_uri": "https://localhost:8080/"
    },
    "executionInfo": {
     "status": "ok",
     "timestamp": 1734543316948,
     "user_tz": -180,
     "elapsed": 788,
     "user": {
      "displayName": "D B",
      "userId": "06784747228484967112"
     }
    },
    "outputId": "9f58b007-f18b-4c5b-d053-250b1503b0fd",
    "ExecuteTime": {
     "end_time": "2024-12-20T01:04:05.236896Z",
     "start_time": "2024-12-20T01:04:05.149312Z"
    }
   },
   "execution_count": 11,
   "outputs": [
    {
     "name": "stdout",
     "output_type": "stream",
     "text": [
      "Выполнение завершено за  0.081 с\n",
      "<class 'pandas.core.frame.DataFrame'>\n",
      "RangeIndex: 15 entries, 0 to 14\n",
      "Data columns (total 8 columns):\n",
      " #   Column                 Non-Null Count  Dtype  \n",
      "---  ------                 --------------  -----  \n",
      " 0   city                   15 non-null     object \n",
      " 1   avg                    15 non-null     float64\n",
      " 2   min                    15 non-null     float64\n",
      " 3   max                    15 non-null     float64\n",
      " 4   anomal_values          15 non-null     object \n",
      " 5   season_profile_roll30  15 non-null     object \n",
      " 6   season_profile         15 non-null     object \n",
      " 7   trend                  15 non-null     float64\n",
      "dtypes: float64(4), object(4)\n",
      "memory usage: 1.1+ KB\n"
     ]
    }
   ]
  },
  {
   "cell_type": "markdown",
   "source": [
    "Как видим выигрыш от распараллеливания при такой незначительной задаче отсутствует. Наоборот, получилось на порядок медленнее. Это связано с накладными расходами на создание процессов и относительно слабой задачей."
   ],
   "metadata": {
    "id": "gSLx5_R0P9Zb"
   }
  },
  {
   "cell_type": "markdown",
   "source": [
    "# **Мониторинг текущей температуры**"
   ],
   "metadata": {
    "id": "7iwlIYC9xtVk"
   }
  },
  {
   "cell_type": "markdown",
   "source": [
    "   В данном разделе:\n",
    "   - подключим OpenWeatherMap API,\n",
    "   - получим текущую температуру для выбранного города через OpenWeatherMap API,\n",
    "   - определим, является ли текущая температура нормальной, исходя из исторических данных для текущего сезона (профиль сезона будем брать не по скользящим средним, а по всем значениям),\n",
    "   - протестируем свое решение для разных городов,\n",
    "   - попробуем для получения текущей температуры использовать синхронные и асинхронные методы. Здесь I/O задача, лучше использовать асинхронные методы."
   ],
   "metadata": {
    "id": "um8VhUZ4yOoU"
   }
  },
  {
   "cell_type": "markdown",
   "source": [
    "## API OpenWeatherMap"
   ],
   "metadata": {
    "id": "M3XGLf53zlPM"
   }
  },
  {
   "cell_type": "markdown",
   "source": [
    "Описание [API openweathermap](https://openweathermap.org/current)  \n",
    "В нашем случае будем использовать для запросов шаблон `https://api.openweathermap.org/data/2.5/weather?lat={lat}&lon={lon}&units={units}&appid={API_KEY}`, где:\n",
    "- `lat` - широта [-90, 90],\n",
    "- `lon` - долгота [-180, 180],\n",
    "- `units` - единицы измерения,\n",
    "- `API_KEY` - ключ доступа к API.  \n",
    "Для получения координат по названию города, почтовому коду или, наоборот, по координатам получить название/кода, используем сервис Geocoding API, выполняя запросы по шаблону `http://api.openweathermap.org/geo/1.0/direct?q={city name}&appid={API key}`, где:\n",
    "- `city_name` - название города,\n",
    "- `API_KEY` - ключ доступа к API."
   ],
   "metadata": {
    "id": "iNhkp6P2z2SE"
   }
  },
  {
   "cell_type": "code",
   "source": [
    "# Посмотрим на примере одного города. Выполним запрос координат\n",
    "geo_info = requests.get(\n",
    "    f'http://api.openweathermap.org/geo/1.0/direct?q=New York&appid={API_KEY}'\n",
    "    ).json()\n",
    "geo_info"
   ],
   "metadata": {
    "colab": {
     "base_uri": "https://localhost:8080/"
    },
    "id": "ZeaIWAxY6qFj",
    "executionInfo": {
     "status": "ok",
     "timestamp": 1734544915416,
     "user_tz": -180,
     "elapsed": 232,
     "user": {
      "displayName": "D B",
      "userId": "06784747228484967112"
     }
    },
    "outputId": "461c29ad-bab3-407a-a700-b0d3905d3ea7",
    "ExecuteTime": {
     "end_time": "2024-12-20T01:04:05.352832Z",
     "start_time": "2024-12-20T01:04:05.236896Z"
    }
   },
   "execution_count": 12,
   "outputs": [
    {
     "data": {
      "text/plain": "[{'name': 'New York',\n  'local_names': {'he': 'ניו יורק',\n   'es': 'Nueva York',\n   'is': 'Nýja Jórvík',\n   'pl': 'Nowy Jork',\n   'kn': 'ನ್ಯೂಯೊರ್ಕ್',\n   'no': 'New York',\n   'vi': 'New York',\n   'pa': 'ਨਿਊਯਾਰਕ',\n   'ga': 'Nua-Eabhrac',\n   'fr': 'New York',\n   'en': 'New York',\n   'ru': 'Нью-Йорк',\n   'br': 'New York',\n   'de': 'New York',\n   'fa': 'نیویورک',\n   'ko': '뉴욕',\n   'tt': 'Ниюрык',\n   'uk': 'Нью-Йорк',\n   'oc': 'Nòva York',\n   'el': 'Νέα Υόρκη',\n   'te': 'న్యూయొర్క్',\n   'tr': 'New York',\n   'pt': 'Nova Iorque',\n   'be': 'Нью-Ёрк',\n   'bn': 'নিউ ইয়র্ক',\n   'ar': 'نيويورك',\n   'hi': 'न्यूयॊर्क्',\n   'ja': 'ニューヨーク',\n   'cy': 'Efrog Newydd',\n   'cs': 'New York',\n   'gl': 'Nova York',\n   'zh': '纽约',\n   'eo': 'Novjorko',\n   'hr': 'New York',\n   'it': 'New York',\n   'ur': 'نیو یارک',\n   'ca': 'Nova York',\n   'sr': 'Њујорк',\n   'eu': 'New York'},\n  'lat': 40.7127281,\n  'lon': -74.0060152,\n  'country': 'US',\n  'state': 'New York'}]"
     },
     "execution_count": 12,
     "metadata": {},
     "output_type": "execute_result"
    }
   ]
  },
  {
   "cell_type": "code",
   "source": [
    "# Получим широту и долготу\n",
    "lat = geo_info[0]['lat']\n",
    "lon = geo_info[0]['lon']\n",
    "lat, lon"
   ],
   "metadata": {
    "colab": {
     "base_uri": "https://localhost:8080/"
    },
    "id": "3UnEZN9O7eAL",
    "executionInfo": {
     "status": "ok",
     "timestamp": 1734544954752,
     "user_tz": -180,
     "elapsed": 239,
     "user": {
      "displayName": "D B",
      "userId": "06784747228484967112"
     }
    },
    "outputId": "45bd8d8e-3048-41df-cdcc-d7a18a545c1f",
    "ExecuteTime": {
     "end_time": "2024-12-20T01:04:05.356207Z",
     "start_time": "2024-12-20T01:04:05.352832Z"
    }
   },
   "execution_count": 13,
   "outputs": [
    {
     "data": {
      "text/plain": "(40.7127281, -74.0060152)"
     },
     "execution_count": 13,
     "metadata": {},
     "output_type": "execute_result"
    }
   ]
  },
  {
   "cell_type": "code",
   "source": [
    "# Запросим текущие данные о погоде\n",
    "weather_data = requests.get(\n",
    "f'https://api.openweathermap.org/data/2.5/weather?lat={lat}&lon={lon}&units={UNITS}&appid={API_KEY}'\n",
    ").json()\n",
    "weather_data"
   ],
   "metadata": {
    "colab": {
     "base_uri": "https://localhost:8080/"
    },
    "id": "H12tue9376Ks",
    "executionInfo": {
     "status": "ok",
     "timestamp": 1734545140968,
     "user_tz": -180,
     "elapsed": 265,
     "user": {
      "displayName": "D B",
      "userId": "06784747228484967112"
     }
    },
    "outputId": "629769da-e00c-44e7-9c62-aedc00fd3556",
    "ExecuteTime": {
     "end_time": "2024-12-20T01:04:05.503431Z",
     "start_time": "2024-12-20T01:04:05.357210Z"
    }
   },
   "execution_count": 14,
   "outputs": [
    {
     "data": {
      "text/plain": "{'coord': {'lon': -74.006, 'lat': 40.7127},\n 'weather': [{'id': 800,\n   'main': 'Clear',\n   'description': 'clear sky',\n   'icon': '01n'}],\n 'base': 'stations',\n 'main': {'temp': 3.61,\n  'feels_like': -0.72,\n  'temp_min': 1.99,\n  'temp_max': 4.43,\n  'pressure': 1026,\n  'humidity': 56,\n  'sea_level': 1026,\n  'grnd_level': 1024},\n 'visibility': 10000,\n 'wind': {'speed': 5.66, 'deg': 360},\n 'clouds': {'all': 0},\n 'dt': 1734656413,\n 'sys': {'type': 1,\n  'id': 4610,\n  'country': 'US',\n  'sunrise': 1734610549,\n  'sunset': 1734643857},\n 'timezone': -18000,\n 'id': 5128581,\n 'name': 'New York',\n 'cod': 200}"
     },
     "execution_count": 14,
     "metadata": {},
     "output_type": "execute_result"
    }
   ]
  },
  {
   "cell_type": "code",
   "source": [
    "# Получим текущую температуру\n",
    "weather_data['main']['temp']"
   ],
   "metadata": {
    "colab": {
     "base_uri": "https://localhost:8080/"
    },
    "id": "b9ucy7gm9BUb",
    "executionInfo": {
     "status": "ok",
     "timestamp": 1734545333859,
     "user_tz": -180,
     "elapsed": 259,
     "user": {
      "displayName": "D B",
      "userId": "06784747228484967112"
     }
    },
    "outputId": "26cdd47e-b9e3-437c-e5a9-936892768878",
    "ExecuteTime": {
     "end_time": "2024-12-20T01:04:05.506611Z",
     "start_time": "2024-12-20T01:04:05.503431Z"
    }
   },
   "execution_count": 15,
   "outputs": [
    {
     "data": {
      "text/plain": "3.61"
     },
     "execution_count": 15,
     "metadata": {},
     "output_type": "execute_result"
    }
   ]
  },
  {
   "cell_type": "markdown",
   "source": [
    "## Синхронный подход"
   ],
   "metadata": {
    "id": "afMlWx7D4LK8"
   }
  },
  {
   "cell_type": "code",
   "source": [
    "# Определим сезон\n",
    "season = month_to_season[time.gmtime().tm_mon]"
   ],
   "metadata": {
    "id": "zt1m9cEGCiE7",
    "ExecuteTime": {
     "end_time": "2024-12-20T01:04:05.509841Z",
     "start_time": "2024-12-20T01:04:05.506611Z"
    }
   },
   "execution_count": 16,
   "outputs": []
  },
  {
   "cell_type": "code",
   "source": [
    "anomality_check = {}\n",
    "start = time.time()\n",
    "for report in reports:\n",
    "     anomality_check[report['city']] =  is_anomalistic(season, report)\n",
    "print(f'Выполнение завершено за {time.time() - start: .3f} с')\n",
    "anomality_check"
   ],
   "metadata": {
    "colab": {
     "base_uri": "https://localhost:8080/"
    },
    "id": "tWmxW1Wr6YG7",
    "executionInfo": {
     "status": "ok",
     "timestamp": 1734548286691,
     "user_tz": -180,
     "elapsed": 3543,
     "user": {
      "displayName": "D B",
      "userId": "06784747228484967112"
     }
    },
    "outputId": "f6242dac-4f89-41e7-8a9e-dbe8592e114e",
    "ExecuteTime": {
     "end_time": "2024-12-20T01:04:09.136163Z",
     "start_time": "2024-12-20T01:04:05.509841Z"
    }
   },
   "execution_count": 17,
   "outputs": [
    {
     "name": "stdout",
     "output_type": "stream",
     "text": [
      "Выполнение завершено за  3.622 с\n"
     ]
    },
    {
     "data": {
      "text/plain": "{'New York': False,\n 'Tokyo': False,\n 'Singapore': False,\n 'Mexico City': False,\n 'Dubai': False,\n 'Berlin': False,\n 'Mumbai': False,\n 'Moscow': False,\n 'Sydney': True,\n 'London': False,\n 'Cairo': False,\n 'Beijing': False,\n 'Rio de Janeiro': False,\n 'Paris': False,\n 'Los Angeles': False}"
     },
     "execution_count": 17,
     "metadata": {},
     "output_type": "execute_result"
    }
   ]
  },
  {
   "cell_type": "markdown",
   "source": [
    "## Асинхронный подход"
   ],
   "metadata": {
    "id": "lOjJRk8xIyhT"
   }
  },
  {
   "cell_type": "code",
   "source": [
    "# Асинхронно получаем данные по нескольким городам\n",
    "import nest_asyncio\n",
    "nest_asyncio.apply()\n",
    "async def check():\n",
    "    tasks = [async_is_anomalistic(season, report) for report in reports]\n",
    "    results = await asyncio.gather(*tasks)\n",
    "    anomality_check = dict(zip([report['city'] for report in reports],\n",
    "                               results))\n",
    "    return anomality_check\n",
    "    \n",
    "    \n",
    "start = time.time()\n",
    "anomality_check = asyncio.get_event_loop().run_until_complete(check())\n",
    "print(f'Выполнение завершено за {time.time() - start: .3f} с')\n",
    "anomality_check"
   ],
   "metadata": {
    "id": "ATPG1aOCn6s1",
    "colab": {
     "base_uri": "https://localhost:8080/"
    },
    "executionInfo": {
     "status": "ok",
     "timestamp": 1734550099137,
     "user_tz": -180,
     "elapsed": 525,
     "user": {
      "displayName": "D B",
      "userId": "06784747228484967112"
     }
    },
    "outputId": "d5816476-b6a9-4d75-9467-577353189d84",
    "ExecuteTime": {
     "end_time": "2024-12-20T01:04:09.425492Z",
     "start_time": "2024-12-20T01:04:09.136163Z"
    }
   },
   "execution_count": 18,
   "outputs": [
    {
     "name": "stdout",
     "output_type": "stream",
     "text": [
      "Выполнение завершено за  0.283 с\n"
     ]
    },
    {
     "data": {
      "text/plain": "{'New York': False,\n 'Tokyo': False,\n 'Singapore': False,\n 'Mexico City': False,\n 'Dubai': False,\n 'Berlin': False,\n 'Mumbai': False,\n 'Moscow': False,\n 'Sydney': True,\n 'London': False,\n 'Cairo': False,\n 'Beijing': False,\n 'Rio de Janeiro': False,\n 'Paris': False,\n 'Los Angeles': False}"
     },
     "execution_count": 18,
     "metadata": {},
     "output_type": "execute_result"
    }
   ]
  },
  {
   "cell_type": "markdown",
   "source": [
    "Как видим, асинхронный подход при запросе данных с сайта позволяет получить информацию быстрее."
   ],
   "metadata": {
    "id": "voW6TshBn6pr"
   }
  }
 ]
}
